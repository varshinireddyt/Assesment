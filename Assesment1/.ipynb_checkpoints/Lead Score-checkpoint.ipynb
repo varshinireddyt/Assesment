{
 "cells": [
  {
   "cell_type": "code",
   "execution_count": 659,
   "metadata": {},
   "outputs": [],
   "source": [
    "import pandas as pd\n",
    "import numpy as np"
   ]
  },
  {
   "cell_type": "code",
   "execution_count": 660,
   "metadata": {},
   "outputs": [],
   "source": [
    "Prospect_df = pd.read_csv(\"Prospect_DS.csv\")\n",
    "Visitor_df = pd.read_csv(\"Visitor_Activity_DS.csv\")"
   ]
  },
  {
   "cell_type": "code",
   "execution_count": 661,
   "metadata": {},
   "outputs": [
    {
     "data": {
      "text/html": [
       "<div>\n",
       "<style scoped>\n",
       "    .dataframe tbody tr th:only-of-type {\n",
       "        vertical-align: middle;\n",
       "    }\n",
       "\n",
       "    .dataframe tbody tr th {\n",
       "        vertical-align: top;\n",
       "    }\n",
       "\n",
       "    .dataframe thead th {\n",
       "        text-align: right;\n",
       "    }\n",
       "</style>\n",
       "<table border=\"1\" class=\"dataframe\">\n",
       "  <thead>\n",
       "    <tr style=\"text-align: right;\">\n",
       "      <th></th>\n",
       "      <th>Prospect_ID</th>\n",
       "      <th>Campaign_ID</th>\n",
       "      <th>Company</th>\n",
       "      <th>Job_Title</th>\n",
       "      <th>Score</th>\n",
       "      <th>Source</th>\n",
       "      <th>Lead_Status</th>\n",
       "    </tr>\n",
       "  </thead>\n",
       "  <tbody>\n",
       "    <tr>\n",
       "      <th>0</th>\n",
       "      <td>18258198</td>\n",
       "      <td>2013</td>\n",
       "      <td>Brock Tech</td>\n",
       "      <td>Chief of Digital Marketing</td>\n",
       "      <td>65</td>\n",
       "      <td>Website</td>\n",
       "      <td>Open</td>\n",
       "    </tr>\n",
       "    <tr>\n",
       "      <th>1</th>\n",
       "      <td>18441354</td>\n",
       "      <td>2005</td>\n",
       "      <td>Myxable Co.</td>\n",
       "      <td>Financial Analyst</td>\n",
       "      <td>66</td>\n",
       "      <td>Twitter</td>\n",
       "      <td>Open</td>\n",
       "    </tr>\n",
       "    <tr>\n",
       "      <th>2</th>\n",
       "      <td>18642577</td>\n",
       "      <td>2009</td>\n",
       "      <td>Polymeris</td>\n",
       "      <td>Procurement Manager</td>\n",
       "      <td>60</td>\n",
       "      <td>Website</td>\n",
       "      <td>Qualified</td>\n",
       "    </tr>\n",
       "    <tr>\n",
       "      <th>3</th>\n",
       "      <td>18664142</td>\n",
       "      <td>2009</td>\n",
       "      <td>HeidieX</td>\n",
       "      <td>Procurement Manager</td>\n",
       "      <td>65</td>\n",
       "      <td>Instagram</td>\n",
       "      <td>Open</td>\n",
       "    </tr>\n",
       "    <tr>\n",
       "      <th>4</th>\n",
       "      <td>18344212</td>\n",
       "      <td>2013</td>\n",
       "      <td>Myxable Co.</td>\n",
       "      <td>Senior Director of B2B Marketing</td>\n",
       "      <td>72</td>\n",
       "      <td>Instagram</td>\n",
       "      <td>Closed</td>\n",
       "    </tr>\n",
       "  </tbody>\n",
       "</table>\n",
       "</div>"
      ],
      "text/plain": [
       "   Prospect_ID  Campaign_ID      Company                         Job_Title  \\\n",
       "0     18258198         2013   Brock Tech        Chief of Digital Marketing   \n",
       "1     18441354         2005  Myxable Co.                 Financial Analyst   \n",
       "2     18642577         2009    Polymeris               Procurement Manager   \n",
       "3     18664142         2009      HeidieX               Procurement Manager   \n",
       "4     18344212         2013  Myxable Co.  Senior Director of B2B Marketing   \n",
       "\n",
       "   Score     Source Lead_Status  \n",
       "0     65    Website        Open  \n",
       "1     66    Twitter        Open  \n",
       "2     60    Website   Qualified  \n",
       "3     65  Instagram        Open  \n",
       "4     72  Instagram      Closed  "
      ]
     },
     "execution_count": 661,
     "metadata": {},
     "output_type": "execute_result"
    }
   ],
   "source": [
    "Prospect_df.head()"
   ]
  },
  {
   "cell_type": "code",
   "execution_count": 662,
   "metadata": {},
   "outputs": [
    {
     "data": {
      "text/plain": [
       "2005    281\n",
       "2019    273\n",
       "2009    262\n",
       "2016    251\n",
       "2000    249\n",
       "2013    238\n",
       "2004    234\n",
       "2001    211\n",
       "Name: Campaign_ID, dtype: int64"
      ]
     },
     "execution_count": 662,
     "metadata": {},
     "output_type": "execute_result"
    }
   ],
   "source": [
    "Prospect_df[\"Campaign_ID\"].value_counts()"
   ]
  },
  {
   "cell_type": "code",
   "execution_count": 663,
   "metadata": {},
   "outputs": [
    {
     "data": {
      "text/plain": [
       "WestLand's Incorporated    186\n",
       "Brock Tech                 180\n",
       "Circuit City               177\n",
       "Gooyer                     175\n",
       "Myxable Co.                164\n",
       "Lexinton Rig Inc           164\n",
       "Polymeris                  163\n",
       "Bryxham                    163\n",
       "HeidieX                    162\n",
       "Regalchain                 161\n",
       "Landon's                   158\n",
       "Marxel                     146\n",
       "Name: Company, dtype: int64"
      ]
     },
     "execution_count": 663,
     "metadata": {},
     "output_type": "execute_result"
    }
   ],
   "source": [
    "Prospect_df[\"Company\"].value_counts()"
   ]
  },
  {
   "cell_type": "code",
   "execution_count": 664,
   "metadata": {},
   "outputs": [
    {
     "data": {
      "text/plain": [
       "Data Scientist                      168\n",
       "Head of Learning and Development    149\n",
       "VP of Business                      143\n",
       "Manager of Business Development     140\n",
       "Financial Analyst                   138\n",
       "Director of Marketing               137\n",
       "Contingent Worker                   135\n",
       "Senior Director of B2B Marketing    133\n",
       "VP of Daily Operations              133\n",
       "Business Analyst                    128\n",
       "Chief of Digital Marketing          127\n",
       "CEO                                 124\n",
       "President                           119\n",
       "Head of Human Resources             113\n",
       "Procurement Manager                 112\n",
       "Name: Job_Title, dtype: int64"
      ]
     },
     "execution_count": 664,
     "metadata": {},
     "output_type": "execute_result"
    }
   ],
   "source": [
    "Prospect_df[\"Job_Title\"].value_counts()"
   ]
  },
  {
   "cell_type": "code",
   "execution_count": 665,
   "metadata": {},
   "outputs": [
    {
     "data": {
      "text/plain": [
       "Facebook     306\n",
       "Twitter      302\n",
       "LinkedIn     301\n",
       "Email        274\n",
       "Webinar      273\n",
       "Instagram    272\n",
       "Website      271\n",
       "Name: Source, dtype: int64"
      ]
     },
     "execution_count": 665,
     "metadata": {},
     "output_type": "execute_result"
    }
   ],
   "source": [
    "Prospect_df[\"Source\"].value_counts()"
   ]
  },
  {
   "cell_type": "code",
   "execution_count": 666,
   "metadata": {},
   "outputs": [
    {
     "data": {
      "text/plain": [
       "Qualified     525\n",
       "Open          511\n",
       "Contacting    495\n",
       "Closed        468\n",
       "Name: Lead_Status, dtype: int64"
      ]
     },
     "execution_count": 666,
     "metadata": {},
     "output_type": "execute_result"
    }
   ],
   "source": [
    "Prospect_df[\"Lead_Status\"].value_counts()"
   ]
  },
  {
   "cell_type": "code",
   "execution_count": 667,
   "metadata": {},
   "outputs": [
    {
     "data": {
      "text/html": [
       "<div>\n",
       "<style scoped>\n",
       "    .dataframe tbody tr th:only-of-type {\n",
       "        vertical-align: middle;\n",
       "    }\n",
       "\n",
       "    .dataframe tbody tr th {\n",
       "        vertical-align: top;\n",
       "    }\n",
       "\n",
       "    .dataframe thead th {\n",
       "        text-align: right;\n",
       "    }\n",
       "</style>\n",
       "<table border=\"1\" class=\"dataframe\">\n",
       "  <thead>\n",
       "    <tr style=\"text-align: right;\">\n",
       "      <th></th>\n",
       "      <th>ID</th>\n",
       "      <th>Prospect_ID</th>\n",
       "      <th>Campaign_ID</th>\n",
       "      <th>Type</th>\n",
       "      <th>Activity_Name</th>\n",
       "      <th>Activity_Details</th>\n",
       "    </tr>\n",
       "  </thead>\n",
       "  <tbody>\n",
       "    <tr>\n",
       "      <th>0</th>\n",
       "      <td>4165912938</td>\n",
       "      <td>18699388</td>\n",
       "      <td>2001</td>\n",
       "      <td>Open</td>\n",
       "      <td>Email</td>\n",
       "      <td>Register for this new deal</td>\n",
       "    </tr>\n",
       "    <tr>\n",
       "      <th>1</th>\n",
       "      <td>7840461777</td>\n",
       "      <td>18247652</td>\n",
       "      <td>2016</td>\n",
       "      <td>Open</td>\n",
       "      <td>Email</td>\n",
       "      <td>Three Keys to your success</td>\n",
       "    </tr>\n",
       "    <tr>\n",
       "      <th>2</th>\n",
       "      <td>7547436225</td>\n",
       "      <td>18280877</td>\n",
       "      <td>2001</td>\n",
       "      <td>Open</td>\n",
       "      <td>Email</td>\n",
       "      <td>Register for this new deal</td>\n",
       "    </tr>\n",
       "    <tr>\n",
       "      <th>3</th>\n",
       "      <td>2255817798</td>\n",
       "      <td>18858552</td>\n",
       "      <td>2013</td>\n",
       "      <td>Open</td>\n",
       "      <td>Email</td>\n",
       "      <td>Three Keys to your success</td>\n",
       "    </tr>\n",
       "    <tr>\n",
       "      <th>4</th>\n",
       "      <td>8032011595</td>\n",
       "      <td>18686014</td>\n",
       "      <td>2000</td>\n",
       "      <td>Open</td>\n",
       "      <td>Email</td>\n",
       "      <td>Monthly overview</td>\n",
       "    </tr>\n",
       "  </tbody>\n",
       "</table>\n",
       "</div>"
      ],
      "text/plain": [
       "           ID  Prospect_ID  Campaign_ID  Type Activity_Name  \\\n",
       "0  4165912938     18699388         2001  Open         Email   \n",
       "1  7840461777     18247652         2016  Open         Email   \n",
       "2  7547436225     18280877         2001  Open         Email   \n",
       "3  2255817798     18858552         2013  Open         Email   \n",
       "4  8032011595     18686014         2000  Open         Email   \n",
       "\n",
       "             Activity_Details  \n",
       "0  Register for this new deal  \n",
       "1  Three Keys to your success  \n",
       "2  Register for this new deal  \n",
       "3  Three Keys to your success  \n",
       "4            Monthly overview  "
      ]
     },
     "execution_count": 667,
     "metadata": {},
     "output_type": "execute_result"
    }
   ],
   "source": [
    "Visitor_df.head()"
   ]
  },
  {
   "cell_type": "code",
   "execution_count": 668,
   "metadata": {},
   "outputs": [
    {
     "data": {
      "text/plain": [
       "1996"
      ]
     },
     "execution_count": 668,
     "metadata": {},
     "output_type": "execute_result"
    }
   ],
   "source": [
    "len(Visitor_df[\"Prospect_ID\"].value_counts())"
   ]
  },
  {
   "cell_type": "code",
   "execution_count": 669,
   "metadata": {},
   "outputs": [],
   "source": [
    "p_ids=Prospect_df[\"Prospect_ID\"]"
   ]
  },
  {
   "cell_type": "code",
   "execution_count": 670,
   "metadata": {},
   "outputs": [],
   "source": [
    "View = []\n",
    "Registered_Webinar=[]\n",
    "Click = []\n",
    "Open = []\n",
    "Attended_Webinar=[]\n",
    "Resubscribed=[]\n",
    "Unsubscribe_Page=[]\n",
    "Bounced=[]\n",
    "Success=[]\n",
    "Spam_Complaint=[]"
   ]
  },
  {
   "cell_type": "code",
   "execution_count": 671,
   "metadata": {},
   "outputs": [],
   "source": [
    "for p_id in p_ids:\n",
    "    type_list = Visitor_df[Visitor_df[\"Prospect_ID\"]==p_id][\"Type\"].to_list()\n",
    "    View.append(type_list.count(\"View\"))\n",
    "    Registered_Webinar.append(type_list.count(\"Registered Webinar\"))\n",
    "    Click.append(type_list.count(\"Click\"))\n",
    "    Open.append(type_list.count(\"Open\"))\n",
    "    Attended_Webinar.append(type_list.count(\"Attended Webinar\"))\n",
    "    Resubscribed.append(type_list.count(\"Resubscribed\"))\n",
    "    Unsubscribe_Page.append(type_list.count(\"Unsubscribe Page\"))\n",
    "    Bounced.append(type_list.count(\"Bounced\"))\n",
    "    Success.append(type_list.count(\"Success\"))\n",
    "    Spam_Complaint.append(type_list.count(\"Spam Complaint\"))\n",
    "    \n",
    "    "
   ]
  },
  {
   "cell_type": "code",
   "execution_count": null,
   "metadata": {},
   "outputs": [],
   "source": []
  },
  {
   "cell_type": "code",
   "execution_count": 672,
   "metadata": {},
   "outputs": [],
   "source": [
    "Prospect_df[\"type_open\"]=Open\n",
    "Prospect_df[\"type_view\"]=View\n",
    "Prospect_df[\"type_registered_webinar\"]=Registered_Webinar\n",
    "Prospect_df[\"type_attended_webinar\"]=Attended_Webinar\n",
    "Prospect_df[\"type_click\"]=Click\n",
    "Prospect_df[\"type_resubscribed\"]=Resubscribed\n",
    "Prospect_df[\"type_unsubscribe_page\"]=Unsubscribe_Page\n",
    "Prospect_df[\"type_bounced\"]=Bounced\n",
    "Prospect_df[\"type_success\"]=Success\n",
    "Prospect_df[\"type_spam_complaint\"]=Spam_Complaint"
   ]
  },
  {
   "cell_type": "code",
   "execution_count": 673,
   "metadata": {},
   "outputs": [
    {
     "data": {
      "text/plain": [
       "View                  2348\n",
       "Registered Webinar     546\n",
       "Click                  458\n",
       "Open                   194\n",
       "Attended Webinar       170\n",
       "Resubscribed           122\n",
       "Unsubscribe Page        58\n",
       "Bounced                 51\n",
       "Success                 27\n",
       "Spam Complaint          25\n",
       "Name: Type, dtype: int64"
      ]
     },
     "execution_count": 673,
     "metadata": {},
     "output_type": "execute_result"
    }
   ],
   "source": [
    "Visitor_df[\"Type\"].value_counts()"
   ]
  },
  {
   "cell_type": "code",
   "execution_count": 674,
   "metadata": {},
   "outputs": [
    {
     "data": {
      "text/plain": [
       "Page View               1060\n",
       "Webinar                  716\n",
       "File                     492\n",
       "Email Tracker            458\n",
       "Email                    450\n",
       "Multivariate Landing     425\n",
       "Form                     398\n",
       "Name: Activity_Name, dtype: int64"
      ]
     },
     "execution_count": 674,
     "metadata": {},
     "output_type": "execute_result"
    }
   ],
   "source": [
    "Visitor_df[\"Activity_Name\"].value_counts()"
   ]
  },
  {
   "cell_type": "code",
   "execution_count": 675,
   "metadata": {},
   "outputs": [
    {
     "data": {
      "text/plain": [
       "Product                                      495\n",
       "12 Questions Answered About AI               340\n",
       "Contact Us                                   277\n",
       "www.xyz.com                                  276\n",
       "Service                                      238\n",
       "Three Keys to your success                   220\n",
       "How To Win Buyers And Influence Sales        179\n",
       "The Hidden Mystery Behind AI                 167\n",
       "File C                                       164\n",
       "Register for this new deal                   132\n",
       "Form D                                       129\n",
       "Form A                                       106\n",
       "File B                                       105\n",
       "Whitepaper                                    98\n",
       "Monthly overview                              98\n",
       "www.xyz.whitepaper                            97\n",
       "www.xyz.contactus                             85\n",
       "Form C                                        77\n",
       "File A                                        72\n",
       "Infographic                                   53\n",
       "Form E                                        50\n",
       "Team                                          50\n",
       "Form B                                        36\n",
       "10 Secret Things You Didn't Know About AI     30\n",
       "Name: Activity_Details, dtype: int64"
      ]
     },
     "execution_count": 675,
     "metadata": {},
     "output_type": "execute_result"
    }
   ],
   "source": [
    "Visitor_df[\"Activity_Details\"].value_counts()"
   ]
  },
  {
   "cell_type": "code",
   "execution_count": 676,
   "metadata": {},
   "outputs": [
    {
     "data": {
      "text/html": [
       "<div>\n",
       "<style scoped>\n",
       "    .dataframe tbody tr th:only-of-type {\n",
       "        vertical-align: middle;\n",
       "    }\n",
       "\n",
       "    .dataframe tbody tr th {\n",
       "        vertical-align: top;\n",
       "    }\n",
       "\n",
       "    .dataframe thead th {\n",
       "        text-align: right;\n",
       "    }\n",
       "</style>\n",
       "<table border=\"1\" class=\"dataframe\">\n",
       "  <thead>\n",
       "    <tr style=\"text-align: right;\">\n",
       "      <th></th>\n",
       "      <th>Prospect_ID</th>\n",
       "      <th>Campaign_ID</th>\n",
       "      <th>Company</th>\n",
       "      <th>Job_Title</th>\n",
       "      <th>Score</th>\n",
       "      <th>Source</th>\n",
       "      <th>Lead_Status</th>\n",
       "      <th>type_open</th>\n",
       "      <th>type_view</th>\n",
       "      <th>type_registered_webinar</th>\n",
       "      <th>type_attended_webinar</th>\n",
       "      <th>type_click</th>\n",
       "      <th>type_resubscribed</th>\n",
       "      <th>type_unsubscribe_page</th>\n",
       "      <th>type_bounced</th>\n",
       "      <th>type_success</th>\n",
       "      <th>type_spam_complaint</th>\n",
       "    </tr>\n",
       "  </thead>\n",
       "  <tbody>\n",
       "    <tr>\n",
       "      <th>0</th>\n",
       "      <td>18258198</td>\n",
       "      <td>2013</td>\n",
       "      <td>Brock Tech</td>\n",
       "      <td>Chief of Digital Marketing</td>\n",
       "      <td>65</td>\n",
       "      <td>Website</td>\n",
       "      <td>Open</td>\n",
       "      <td>0</td>\n",
       "      <td>1</td>\n",
       "      <td>1</td>\n",
       "      <td>0</td>\n",
       "      <td>0</td>\n",
       "      <td>0</td>\n",
       "      <td>0</td>\n",
       "      <td>0</td>\n",
       "      <td>0</td>\n",
       "      <td>0</td>\n",
       "    </tr>\n",
       "    <tr>\n",
       "      <th>1</th>\n",
       "      <td>18441354</td>\n",
       "      <td>2005</td>\n",
       "      <td>Myxable Co.</td>\n",
       "      <td>Financial Analyst</td>\n",
       "      <td>66</td>\n",
       "      <td>Twitter</td>\n",
       "      <td>Open</td>\n",
       "      <td>0</td>\n",
       "      <td>2</td>\n",
       "      <td>0</td>\n",
       "      <td>0</td>\n",
       "      <td>0</td>\n",
       "      <td>0</td>\n",
       "      <td>0</td>\n",
       "      <td>0</td>\n",
       "      <td>0</td>\n",
       "      <td>0</td>\n",
       "    </tr>\n",
       "    <tr>\n",
       "      <th>2</th>\n",
       "      <td>18642577</td>\n",
       "      <td>2009</td>\n",
       "      <td>Polymeris</td>\n",
       "      <td>Procurement Manager</td>\n",
       "      <td>60</td>\n",
       "      <td>Website</td>\n",
       "      <td>Qualified</td>\n",
       "      <td>0</td>\n",
       "      <td>1</td>\n",
       "      <td>0</td>\n",
       "      <td>0</td>\n",
       "      <td>1</td>\n",
       "      <td>0</td>\n",
       "      <td>0</td>\n",
       "      <td>0</td>\n",
       "      <td>0</td>\n",
       "      <td>0</td>\n",
       "    </tr>\n",
       "    <tr>\n",
       "      <th>3</th>\n",
       "      <td>18664142</td>\n",
       "      <td>2009</td>\n",
       "      <td>HeidieX</td>\n",
       "      <td>Procurement Manager</td>\n",
       "      <td>65</td>\n",
       "      <td>Instagram</td>\n",
       "      <td>Open</td>\n",
       "      <td>0</td>\n",
       "      <td>2</td>\n",
       "      <td>0</td>\n",
       "      <td>0</td>\n",
       "      <td>0</td>\n",
       "      <td>0</td>\n",
       "      <td>0</td>\n",
       "      <td>0</td>\n",
       "      <td>0</td>\n",
       "      <td>0</td>\n",
       "    </tr>\n",
       "    <tr>\n",
       "      <th>4</th>\n",
       "      <td>18344212</td>\n",
       "      <td>2013</td>\n",
       "      <td>Myxable Co.</td>\n",
       "      <td>Senior Director of B2B Marketing</td>\n",
       "      <td>72</td>\n",
       "      <td>Instagram</td>\n",
       "      <td>Closed</td>\n",
       "      <td>0</td>\n",
       "      <td>1</td>\n",
       "      <td>1</td>\n",
       "      <td>0</td>\n",
       "      <td>0</td>\n",
       "      <td>0</td>\n",
       "      <td>0</td>\n",
       "      <td>0</td>\n",
       "      <td>0</td>\n",
       "      <td>0</td>\n",
       "    </tr>\n",
       "  </tbody>\n",
       "</table>\n",
       "</div>"
      ],
      "text/plain": [
       "   Prospect_ID  Campaign_ID      Company                         Job_Title  \\\n",
       "0     18258198         2013   Brock Tech        Chief of Digital Marketing   \n",
       "1     18441354         2005  Myxable Co.                 Financial Analyst   \n",
       "2     18642577         2009    Polymeris               Procurement Manager   \n",
       "3     18664142         2009      HeidieX               Procurement Manager   \n",
       "4     18344212         2013  Myxable Co.  Senior Director of B2B Marketing   \n",
       "\n",
       "   Score     Source Lead_Status  type_open  type_view  \\\n",
       "0     65    Website        Open          0          1   \n",
       "1     66    Twitter        Open          0          2   \n",
       "2     60    Website   Qualified          0          1   \n",
       "3     65  Instagram        Open          0          2   \n",
       "4     72  Instagram      Closed          0          1   \n",
       "\n",
       "   type_registered_webinar  type_attended_webinar  type_click  \\\n",
       "0                        1                      0           0   \n",
       "1                        0                      0           0   \n",
       "2                        0                      0           1   \n",
       "3                        0                      0           0   \n",
       "4                        1                      0           0   \n",
       "\n",
       "   type_resubscribed  type_unsubscribe_page  type_bounced  type_success  \\\n",
       "0                  0                      0             0             0   \n",
       "1                  0                      0             0             0   \n",
       "2                  0                      0             0             0   \n",
       "3                  0                      0             0             0   \n",
       "4                  0                      0             0             0   \n",
       "\n",
       "   type_spam_complaint  \n",
       "0                    0  \n",
       "1                    0  \n",
       "2                    0  \n",
       "3                    0  \n",
       "4                    0  "
      ]
     },
     "execution_count": 676,
     "metadata": {},
     "output_type": "execute_result"
    }
   ],
   "source": [
    "Prospect_df.head()"
   ]
  },
  {
   "cell_type": "code",
   "execution_count": 677,
   "metadata": {},
   "outputs": [],
   "source": [
    "Prospect_df = Prospect_df[(Prospect_df[\"Lead_Status\"] == \"Qualified\") | (Prospect_df[\"Lead_Status\"] == \"Closed\") ]"
   ]
  },
  {
   "cell_type": "code",
   "execution_count": 678,
   "metadata": {},
   "outputs": [
    {
     "data": {
      "text/html": [
       "<div>\n",
       "<style scoped>\n",
       "    .dataframe tbody tr th:only-of-type {\n",
       "        vertical-align: middle;\n",
       "    }\n",
       "\n",
       "    .dataframe tbody tr th {\n",
       "        vertical-align: top;\n",
       "    }\n",
       "\n",
       "    .dataframe thead th {\n",
       "        text-align: right;\n",
       "    }\n",
       "</style>\n",
       "<table border=\"1\" class=\"dataframe\">\n",
       "  <thead>\n",
       "    <tr style=\"text-align: right;\">\n",
       "      <th></th>\n",
       "      <th>Prospect_ID</th>\n",
       "      <th>Campaign_ID</th>\n",
       "      <th>Company</th>\n",
       "      <th>Job_Title</th>\n",
       "      <th>Score</th>\n",
       "      <th>Source</th>\n",
       "      <th>Lead_Status</th>\n",
       "      <th>type_open</th>\n",
       "      <th>type_view</th>\n",
       "      <th>type_registered_webinar</th>\n",
       "      <th>type_attended_webinar</th>\n",
       "      <th>type_click</th>\n",
       "      <th>type_resubscribed</th>\n",
       "      <th>type_unsubscribe_page</th>\n",
       "      <th>type_bounced</th>\n",
       "      <th>type_success</th>\n",
       "      <th>type_spam_complaint</th>\n",
       "    </tr>\n",
       "  </thead>\n",
       "  <tbody>\n",
       "    <tr>\n",
       "      <th>2</th>\n",
       "      <td>18642577</td>\n",
       "      <td>2009</td>\n",
       "      <td>Polymeris</td>\n",
       "      <td>Procurement Manager</td>\n",
       "      <td>60</td>\n",
       "      <td>Website</td>\n",
       "      <td>Qualified</td>\n",
       "      <td>0</td>\n",
       "      <td>1</td>\n",
       "      <td>0</td>\n",
       "      <td>0</td>\n",
       "      <td>1</td>\n",
       "      <td>0</td>\n",
       "      <td>0</td>\n",
       "      <td>0</td>\n",
       "      <td>0</td>\n",
       "      <td>0</td>\n",
       "    </tr>\n",
       "    <tr>\n",
       "      <th>4</th>\n",
       "      <td>18344212</td>\n",
       "      <td>2013</td>\n",
       "      <td>Myxable Co.</td>\n",
       "      <td>Senior Director of B2B Marketing</td>\n",
       "      <td>72</td>\n",
       "      <td>Instagram</td>\n",
       "      <td>Closed</td>\n",
       "      <td>0</td>\n",
       "      <td>1</td>\n",
       "      <td>1</td>\n",
       "      <td>0</td>\n",
       "      <td>0</td>\n",
       "      <td>0</td>\n",
       "      <td>0</td>\n",
       "      <td>0</td>\n",
       "      <td>0</td>\n",
       "      <td>0</td>\n",
       "    </tr>\n",
       "    <tr>\n",
       "      <th>6</th>\n",
       "      <td>18426335</td>\n",
       "      <td>2005</td>\n",
       "      <td>Brock Tech</td>\n",
       "      <td>Procurement Manager</td>\n",
       "      <td>96</td>\n",
       "      <td>Website</td>\n",
       "      <td>Qualified</td>\n",
       "      <td>0</td>\n",
       "      <td>1</td>\n",
       "      <td>0</td>\n",
       "      <td>0</td>\n",
       "      <td>0</td>\n",
       "      <td>1</td>\n",
       "      <td>0</td>\n",
       "      <td>0</td>\n",
       "      <td>0</td>\n",
       "      <td>0</td>\n",
       "    </tr>\n",
       "    <tr>\n",
       "      <th>7</th>\n",
       "      <td>18700999</td>\n",
       "      <td>2000</td>\n",
       "      <td>WestLand's Incorporated</td>\n",
       "      <td>CEO</td>\n",
       "      <td>66</td>\n",
       "      <td>Website</td>\n",
       "      <td>Closed</td>\n",
       "      <td>0</td>\n",
       "      <td>2</td>\n",
       "      <td>0</td>\n",
       "      <td>0</td>\n",
       "      <td>0</td>\n",
       "      <td>0</td>\n",
       "      <td>0</td>\n",
       "      <td>0</td>\n",
       "      <td>0</td>\n",
       "      <td>0</td>\n",
       "    </tr>\n",
       "    <tr>\n",
       "      <th>8</th>\n",
       "      <td>18639262</td>\n",
       "      <td>2019</td>\n",
       "      <td>Marxel</td>\n",
       "      <td>VP of Daily Operations</td>\n",
       "      <td>50</td>\n",
       "      <td>Facebook</td>\n",
       "      <td>Closed</td>\n",
       "      <td>0</td>\n",
       "      <td>0</td>\n",
       "      <td>1</td>\n",
       "      <td>0</td>\n",
       "      <td>1</td>\n",
       "      <td>0</td>\n",
       "      <td>0</td>\n",
       "      <td>0</td>\n",
       "      <td>0</td>\n",
       "      <td>0</td>\n",
       "    </tr>\n",
       "  </tbody>\n",
       "</table>\n",
       "</div>"
      ],
      "text/plain": [
       "   Prospect_ID  Campaign_ID                  Company  \\\n",
       "2     18642577         2009                Polymeris   \n",
       "4     18344212         2013              Myxable Co.   \n",
       "6     18426335         2005               Brock Tech   \n",
       "7     18700999         2000  WestLand's Incorporated   \n",
       "8     18639262         2019                   Marxel   \n",
       "\n",
       "                          Job_Title  Score     Source Lead_Status  type_open  \\\n",
       "2               Procurement Manager     60    Website   Qualified          0   \n",
       "4  Senior Director of B2B Marketing     72  Instagram      Closed          0   \n",
       "6               Procurement Manager     96    Website   Qualified          0   \n",
       "7                               CEO     66    Website      Closed          0   \n",
       "8            VP of Daily Operations     50   Facebook      Closed          0   \n",
       "\n",
       "   type_view  type_registered_webinar  type_attended_webinar  type_click  \\\n",
       "2          1                        0                      0           1   \n",
       "4          1                        1                      0           0   \n",
       "6          1                        0                      0           0   \n",
       "7          2                        0                      0           0   \n",
       "8          0                        1                      0           1   \n",
       "\n",
       "   type_resubscribed  type_unsubscribe_page  type_bounced  type_success  \\\n",
       "2                  0                      0             0             0   \n",
       "4                  0                      0             0             0   \n",
       "6                  1                      0             0             0   \n",
       "7                  0                      0             0             0   \n",
       "8                  0                      0             0             0   \n",
       "\n",
       "   type_spam_complaint  \n",
       "2                    0  \n",
       "4                    0  \n",
       "6                    0  \n",
       "7                    0  \n",
       "8                    0  "
      ]
     },
     "execution_count": 678,
     "metadata": {},
     "output_type": "execute_result"
    }
   ],
   "source": [
    "Prospect_df.head()"
   ]
  },
  {
   "cell_type": "code",
   "execution_count": 679,
   "metadata": {},
   "outputs": [],
   "source": [
    "def handle_non_numerical_data(df):\n",
    "    columns = df.columns.values\n",
    "    for column in columns:\n",
    "        text_digit_vals = {}\n",
    "        def convert_to_int(val):\n",
    "            return text_digit_vals[val]\n",
    "\n",
    "        if df[column].dtype != np.int64 and df[column].dtype != np.float64:\n",
    "            column_contents = df[column].values.tolist()\n",
    "            unique_elements = set(column_contents)\n",
    "            x = 0\n",
    "            for unique in unique_elements:\n",
    "                if unique not in text_digit_vals:\n",
    "                    text_digit_vals[unique] = x\n",
    "                    x+=1\n",
    "\n",
    "            df[column] = list(map(convert_to_int, df[column]))\n",
    "\n",
    "    return df"
   ]
  },
  {
   "cell_type": "code",
   "execution_count": 680,
   "metadata": {},
   "outputs": [],
   "source": [
    "Prospect_df = handle_non_numerical_data(Prospect_df)"
   ]
  },
  {
   "cell_type": "code",
   "execution_count": 681,
   "metadata": {},
   "outputs": [
    {
     "data": {
      "text/html": [
       "<div>\n",
       "<style scoped>\n",
       "    .dataframe tbody tr th:only-of-type {\n",
       "        vertical-align: middle;\n",
       "    }\n",
       "\n",
       "    .dataframe tbody tr th {\n",
       "        vertical-align: top;\n",
       "    }\n",
       "\n",
       "    .dataframe thead th {\n",
       "        text-align: right;\n",
       "    }\n",
       "</style>\n",
       "<table border=\"1\" class=\"dataframe\">\n",
       "  <thead>\n",
       "    <tr style=\"text-align: right;\">\n",
       "      <th></th>\n",
       "      <th>Prospect_ID</th>\n",
       "      <th>Campaign_ID</th>\n",
       "      <th>Company</th>\n",
       "      <th>Job_Title</th>\n",
       "      <th>Score</th>\n",
       "      <th>Source</th>\n",
       "      <th>Lead_Status</th>\n",
       "      <th>type_open</th>\n",
       "      <th>type_view</th>\n",
       "      <th>type_registered_webinar</th>\n",
       "      <th>type_attended_webinar</th>\n",
       "      <th>type_click</th>\n",
       "      <th>type_resubscribed</th>\n",
       "      <th>type_unsubscribe_page</th>\n",
       "      <th>type_bounced</th>\n",
       "      <th>type_success</th>\n",
       "      <th>type_spam_complaint</th>\n",
       "    </tr>\n",
       "  </thead>\n",
       "  <tbody>\n",
       "    <tr>\n",
       "      <th>2</th>\n",
       "      <td>18642577</td>\n",
       "      <td>2009</td>\n",
       "      <td>6</td>\n",
       "      <td>11</td>\n",
       "      <td>60</td>\n",
       "      <td>0</td>\n",
       "      <td>1</td>\n",
       "      <td>0</td>\n",
       "      <td>1</td>\n",
       "      <td>0</td>\n",
       "      <td>0</td>\n",
       "      <td>1</td>\n",
       "      <td>0</td>\n",
       "      <td>0</td>\n",
       "      <td>0</td>\n",
       "      <td>0</td>\n",
       "      <td>0</td>\n",
       "    </tr>\n",
       "    <tr>\n",
       "      <th>4</th>\n",
       "      <td>18344212</td>\n",
       "      <td>2013</td>\n",
       "      <td>9</td>\n",
       "      <td>12</td>\n",
       "      <td>72</td>\n",
       "      <td>4</td>\n",
       "      <td>0</td>\n",
       "      <td>0</td>\n",
       "      <td>1</td>\n",
       "      <td>1</td>\n",
       "      <td>0</td>\n",
       "      <td>0</td>\n",
       "      <td>0</td>\n",
       "      <td>0</td>\n",
       "      <td>0</td>\n",
       "      <td>0</td>\n",
       "      <td>0</td>\n",
       "    </tr>\n",
       "    <tr>\n",
       "      <th>6</th>\n",
       "      <td>18426335</td>\n",
       "      <td>2005</td>\n",
       "      <td>4</td>\n",
       "      <td>11</td>\n",
       "      <td>96</td>\n",
       "      <td>0</td>\n",
       "      <td>1</td>\n",
       "      <td>0</td>\n",
       "      <td>1</td>\n",
       "      <td>0</td>\n",
       "      <td>0</td>\n",
       "      <td>0</td>\n",
       "      <td>1</td>\n",
       "      <td>0</td>\n",
       "      <td>0</td>\n",
       "      <td>0</td>\n",
       "      <td>0</td>\n",
       "    </tr>\n",
       "    <tr>\n",
       "      <th>7</th>\n",
       "      <td>18700999</td>\n",
       "      <td>2000</td>\n",
       "      <td>8</td>\n",
       "      <td>0</td>\n",
       "      <td>66</td>\n",
       "      <td>0</td>\n",
       "      <td>0</td>\n",
       "      <td>0</td>\n",
       "      <td>2</td>\n",
       "      <td>0</td>\n",
       "      <td>0</td>\n",
       "      <td>0</td>\n",
       "      <td>0</td>\n",
       "      <td>0</td>\n",
       "      <td>0</td>\n",
       "      <td>0</td>\n",
       "      <td>0</td>\n",
       "    </tr>\n",
       "    <tr>\n",
       "      <th>8</th>\n",
       "      <td>18639262</td>\n",
       "      <td>2019</td>\n",
       "      <td>10</td>\n",
       "      <td>6</td>\n",
       "      <td>50</td>\n",
       "      <td>1</td>\n",
       "      <td>0</td>\n",
       "      <td>0</td>\n",
       "      <td>0</td>\n",
       "      <td>1</td>\n",
       "      <td>0</td>\n",
       "      <td>1</td>\n",
       "      <td>0</td>\n",
       "      <td>0</td>\n",
       "      <td>0</td>\n",
       "      <td>0</td>\n",
       "      <td>0</td>\n",
       "    </tr>\n",
       "  </tbody>\n",
       "</table>\n",
       "</div>"
      ],
      "text/plain": [
       "   Prospect_ID  Campaign_ID  Company  Job_Title  Score  Source  Lead_Status  \\\n",
       "2     18642577         2009        6         11     60       0            1   \n",
       "4     18344212         2013        9         12     72       4            0   \n",
       "6     18426335         2005        4         11     96       0            1   \n",
       "7     18700999         2000        8          0     66       0            0   \n",
       "8     18639262         2019       10          6     50       1            0   \n",
       "\n",
       "   type_open  type_view  type_registered_webinar  type_attended_webinar  \\\n",
       "2          0          1                        0                      0   \n",
       "4          0          1                        1                      0   \n",
       "6          0          1                        0                      0   \n",
       "7          0          2                        0                      0   \n",
       "8          0          0                        1                      0   \n",
       "\n",
       "   type_click  type_resubscribed  type_unsubscribe_page  type_bounced  \\\n",
       "2           1                  0                      0             0   \n",
       "4           0                  0                      0             0   \n",
       "6           0                  1                      0             0   \n",
       "7           0                  0                      0             0   \n",
       "8           1                  0                      0             0   \n",
       "\n",
       "   type_success  type_spam_complaint  \n",
       "2             0                    0  \n",
       "4             0                    0  \n",
       "6             0                    0  \n",
       "7             0                    0  \n",
       "8             0                    0  "
      ]
     },
     "execution_count": 681,
     "metadata": {},
     "output_type": "execute_result"
    }
   ],
   "source": [
    "Prospect_df.head()"
   ]
  },
  {
   "cell_type": "code",
   "execution_count": 682,
   "metadata": {},
   "outputs": [],
   "source": [
    "Prospect_df = Prospect_df.fillna(0)"
   ]
  },
  {
   "cell_type": "code",
   "execution_count": 683,
   "metadata": {},
   "outputs": [],
   "source": [
    "target = Prospect_df[\"Lead_Status\"]"
   ]
  },
  {
   "cell_type": "code",
   "execution_count": 684,
   "metadata": {},
   "outputs": [],
   "source": [
    "train_df = Prospect_df.drop([\"Lead_Status\",\"Prospect_ID\",\"Campaign_ID\",\"type_view\",\"type_spam_complaint\",\"type_success\",\"type_unsubscribe_page\"], axis=1)"
   ]
  },
  {
   "cell_type": "code",
   "execution_count": 685,
   "metadata": {},
   "outputs": [
    {
     "data": {
      "text/html": [
       "<div>\n",
       "<style scoped>\n",
       "    .dataframe tbody tr th:only-of-type {\n",
       "        vertical-align: middle;\n",
       "    }\n",
       "\n",
       "    .dataframe tbody tr th {\n",
       "        vertical-align: top;\n",
       "    }\n",
       "\n",
       "    .dataframe thead th {\n",
       "        text-align: right;\n",
       "    }\n",
       "</style>\n",
       "<table border=\"1\" class=\"dataframe\">\n",
       "  <thead>\n",
       "    <tr style=\"text-align: right;\">\n",
       "      <th></th>\n",
       "      <th>Company</th>\n",
       "      <th>Job_Title</th>\n",
       "      <th>Score</th>\n",
       "      <th>Source</th>\n",
       "      <th>type_open</th>\n",
       "      <th>type_registered_webinar</th>\n",
       "      <th>type_attended_webinar</th>\n",
       "      <th>type_click</th>\n",
       "      <th>type_resubscribed</th>\n",
       "      <th>type_bounced</th>\n",
       "    </tr>\n",
       "  </thead>\n",
       "  <tbody>\n",
       "    <tr>\n",
       "      <th>2</th>\n",
       "      <td>6</td>\n",
       "      <td>11</td>\n",
       "      <td>60</td>\n",
       "      <td>0</td>\n",
       "      <td>0</td>\n",
       "      <td>0</td>\n",
       "      <td>0</td>\n",
       "      <td>1</td>\n",
       "      <td>0</td>\n",
       "      <td>0</td>\n",
       "    </tr>\n",
       "    <tr>\n",
       "      <th>4</th>\n",
       "      <td>9</td>\n",
       "      <td>12</td>\n",
       "      <td>72</td>\n",
       "      <td>4</td>\n",
       "      <td>0</td>\n",
       "      <td>1</td>\n",
       "      <td>0</td>\n",
       "      <td>0</td>\n",
       "      <td>0</td>\n",
       "      <td>0</td>\n",
       "    </tr>\n",
       "    <tr>\n",
       "      <th>6</th>\n",
       "      <td>4</td>\n",
       "      <td>11</td>\n",
       "      <td>96</td>\n",
       "      <td>0</td>\n",
       "      <td>0</td>\n",
       "      <td>0</td>\n",
       "      <td>0</td>\n",
       "      <td>0</td>\n",
       "      <td>1</td>\n",
       "      <td>0</td>\n",
       "    </tr>\n",
       "    <tr>\n",
       "      <th>7</th>\n",
       "      <td>8</td>\n",
       "      <td>0</td>\n",
       "      <td>66</td>\n",
       "      <td>0</td>\n",
       "      <td>0</td>\n",
       "      <td>0</td>\n",
       "      <td>0</td>\n",
       "      <td>0</td>\n",
       "      <td>0</td>\n",
       "      <td>0</td>\n",
       "    </tr>\n",
       "    <tr>\n",
       "      <th>8</th>\n",
       "      <td>10</td>\n",
       "      <td>6</td>\n",
       "      <td>50</td>\n",
       "      <td>1</td>\n",
       "      <td>0</td>\n",
       "      <td>1</td>\n",
       "      <td>0</td>\n",
       "      <td>1</td>\n",
       "      <td>0</td>\n",
       "      <td>0</td>\n",
       "    </tr>\n",
       "  </tbody>\n",
       "</table>\n",
       "</div>"
      ],
      "text/plain": [
       "   Company  Job_Title  Score  Source  type_open  type_registered_webinar  \\\n",
       "2        6         11     60       0          0                        0   \n",
       "4        9         12     72       4          0                        1   \n",
       "6        4         11     96       0          0                        0   \n",
       "7        8          0     66       0          0                        0   \n",
       "8       10          6     50       1          0                        1   \n",
       "\n",
       "   type_attended_webinar  type_click  type_resubscribed  type_bounced  \n",
       "2                      0           1                  0             0  \n",
       "4                      0           0                  0             0  \n",
       "6                      0           0                  1             0  \n",
       "7                      0           0                  0             0  \n",
       "8                      0           1                  0             0  "
      ]
     },
     "execution_count": 685,
     "metadata": {},
     "output_type": "execute_result"
    }
   ],
   "source": [
    "train_df.head()"
   ]
  },
  {
   "cell_type": "code",
   "execution_count": null,
   "metadata": {},
   "outputs": [],
   "source": []
  },
  {
   "cell_type": "code",
   "execution_count": 686,
   "metadata": {},
   "outputs": [],
   "source": [
    "from sklearn.model_selection import train_test_split\n",
    "X_train, X_test, y_train, y_test = train_test_split(train_df,target, test_size=0.1, random_state=112)"
   ]
  },
  {
   "cell_type": "code",
   "execution_count": 697,
   "metadata": {},
   "outputs": [
    {
     "data": {
      "text/plain": [
       "LogisticRegression(C=1.0, class_weight=None, dual=False, fit_intercept=True,\n",
       "          intercept_scaling=1, max_iter=100, multi_class='ovr', n_jobs=1,\n",
       "          penalty='l2', random_state=None, solver='liblinear', tol=0.0001,\n",
       "          verbose=0, warm_start=False)"
      ]
     },
     "execution_count": 697,
     "metadata": {},
     "output_type": "execute_result"
    }
   ],
   "source": [
    "from sklearn.metrics import accuracy_score\n",
    "from sklearn.linear_model import LogisticRegression\n",
    "from xgboost import XGBClassifier\n",
    "model = LogisticRegression()\n",
    "model.fit(X_train, y_train)\n"
   ]
  },
  {
   "cell_type": "code",
   "execution_count": 698,
   "metadata": {},
   "outputs": [],
   "source": [
    "pred = model.predict(X_test)"
   ]
  },
  {
   "cell_type": "code",
   "execution_count": 699,
   "metadata": {},
   "outputs": [
    {
     "data": {
      "text/plain": [
       "0.52"
      ]
     },
     "execution_count": 699,
     "metadata": {},
     "output_type": "execute_result"
    }
   ],
   "source": [
    "accuracy_score(y_test,pred)"
   ]
  },
  {
   "cell_type": "code",
   "execution_count": 700,
   "metadata": {},
   "outputs": [],
   "source": [
    "new_score = model.predict_proba(X_test)[:,1]*100"
   ]
  },
  {
   "cell_type": "code",
   "execution_count": 701,
   "metadata": {},
   "outputs": [
    {
     "data": {
      "text/plain": [
       "array([54.24781279, 35.54998002, 55.75769311, 57.99719177, 55.29012305])"
      ]
     },
     "execution_count": 701,
     "metadata": {},
     "output_type": "execute_result"
    }
   ],
   "source": [
    "new_score[0:5]"
   ]
  },
  {
   "cell_type": "code",
   "execution_count": null,
   "metadata": {},
   "outputs": [],
   "source": []
  },
  {
   "cell_type": "code",
   "execution_count": null,
   "metadata": {},
   "outputs": [],
   "source": []
  },
  {
   "cell_type": "code",
   "execution_count": null,
   "metadata": {},
   "outputs": [],
   "source": []
  },
  {
   "cell_type": "code",
   "execution_count": null,
   "metadata": {},
   "outputs": [],
   "source": []
  },
  {
   "cell_type": "code",
   "execution_count": null,
   "metadata": {},
   "outputs": [],
   "source": []
  },
  {
   "cell_type": "code",
   "execution_count": null,
   "metadata": {},
   "outputs": [],
   "source": []
  },
  {
   "cell_type": "code",
   "execution_count": null,
   "metadata": {},
   "outputs": [],
   "source": []
  }
 ],
 "metadata": {
  "kernelspec": {
   "display_name": "Python 3",
   "language": "python",
   "name": "python3"
  },
  "language_info": {
   "codemirror_mode": {
    "name": "ipython",
    "version": 3
   },
   "file_extension": ".py",
   "mimetype": "text/x-python",
   "name": "python",
   "nbconvert_exporter": "python",
   "pygments_lexer": "ipython3",
   "version": "3.7.4"
  }
 },
 "nbformat": 4,
 "nbformat_minor": 2
}
